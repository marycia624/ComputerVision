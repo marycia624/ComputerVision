{
  "nbformat": 4,
  "nbformat_minor": 0,
  "metadata": {
    "colab": {
      "name": "Компьютерное зрение упражнение 2.ipynb",
      "provenance": [],
      "collapsed_sections": []
    },
    "kernelspec": {
      "name": "python3",
      "display_name": "Python 3"
    },
    "language_info": {
      "name": "python"
    }
  },
  "cells": [
    {
      "cell_type": "markdown",
      "metadata": {
        "id": "LVt6t_4-n1SV"
      },
      "source": [
        "#Упражнение 2 по курсу Компьтерное зрение.\n",
        "##Выполнила: Авдеева Мария\n",
        "\n",
        "\n"
      ]
    },
    {
      "cell_type": "markdown",
      "metadata": {
        "id": "XijHati_Wi5I"
      },
      "source": [
        "Загрузим датасет MNIST"
      ]
    },
    {
      "cell_type": "code",
      "metadata": {
        "id": "vzifgmfcU7XL"
      },
      "source": [
        "import tensorflow as tf\n",
        "import matplotlib.pyplot as plt\n",
        "%matplotlib inline \n",
        "\n",
        "(x_train, y_train), (x_test, y_test) = tf.keras.datasets.mnist.load_data()"
      ],
      "execution_count": null,
      "outputs": []
    },
    {
      "cell_type": "markdown",
      "metadata": {
        "id": "_NHYrGVnWrOg"
      },
      "source": [
        "Посмотрим на рандомное изображение, чтобы понять как выглядят данный. Вместе с картинкой, я вывела класс данной картинки. В данном случае картинка отнесена к классу 8"
      ]
    },
    {
      "cell_type": "code",
      "metadata": {
        "colab": {
          "base_uri": "https://localhost:8080/",
          "height": 300
        },
        "id": "_5ce856YWdEE",
        "outputId": "7b2384e0-3f99-451a-f8fe-e5a52cc3ba38"
      },
      "source": [
        "image_index = 7777 \n",
        "print(y_train[image_index])\n",
        "plt.imshow(x_train[image_index], cmap='Greys')"
      ],
      "execution_count": null,
      "outputs": [
        {
          "output_type": "stream",
          "text": [
            "8\n"
          ],
          "name": "stdout"
        },
        {
          "output_type": "execute_result",
          "data": {
            "text/plain": [
              "<matplotlib.image.AxesImage at 0x7ff335a08f90>"
            ]
          },
          "metadata": {
            "tags": []
          },
          "execution_count": 3
        },
        {
          "output_type": "display_data",
          "data": {
            "image/png": "[encoded data removed]",
            "text/plain": [
              "<Figure size 432x288 with 1 Axes>"
            ]
          },
          "metadata": {
            "tags": [],
            "needs_background": "light"
          }
        }
      ]
    },
    {
      "cell_type": "markdown",
      "metadata": {
        "id": "y-JBusEJXG1L"
      },
      "source": [
        "Так как данные достаточно простые (предстовляют собой рукописные цифры) и их много, я не буду делать аугментацию, что вполне логично. Я преобразую данные в нужный размер для Keras, и произвожу нормализацию, что по идеи должно помочь повысить accuracy"
      ]
    },
    {
      "cell_type": "code",
      "metadata": {
        "id": "vf2APJbeXIS9"
      },
      "source": [
        "x_train = x_train.reshape(x_train.shape[0], 28, 28, 1)\n",
        "x_test = x_test.reshape(x_test.shape[0], 28, 28, 1)\n",
        "input_shape = (28, 28, 1)\n",
        "\n",
        "x_train = x_train.astype('float32')\n",
        "x_test = x_test.astype('float32')\n",
        "\n",
        "x_train /= 255\n",
        "x_test /= 255"
      ],
      "execution_count": null,
      "outputs": []
    },
    {
      "cell_type": "code",
      "metadata": {
        "id": "i-dLpRApZSJz"
      },
      "source": [
        "from keras.models import Sequential\n",
        "from keras.layers import Dense, Conv2D, Dropout, Flatten, MaxPooling2D"
      ],
      "execution_count": null,
      "outputs": []
    },
    {
      "cell_type": "markdown",
      "metadata": {
        "id": "tD4essgjZTM6"
      },
      "source": [
        "Займемся построением нейронной сети. Я буду использовать меньше слоев, чем в примере, данном на курсе, openedu, так как для этого датасета большое количество слоев - избыточно. \n",
        "1. 2d Convolution layer, который проходится по каждому изображению, и выполняет \"свертку\" с помощью окна(ядра) размером 3*3.\n",
        "2. MaxPolling2D - выбирает максимальное значение пикселя из квадрата 2*2 и оставляет только его, наше изображение станет меньше в 4 раза\n",
        "3. Flatten - слой, преобразующий 2D-данные в 1D-данные\n",
        "4. Dence - скрытый слой с колвом нейронов = 128\n",
        "5. Dropout - обнуляет 20% весов, чтобы избежать переобучения\n",
        "6. Dense - еще один скрытый слой с 10ю нейронами, поскольку у нас есть 10 числовых классов"
      ]
    },
    {
      "cell_type": "code",
      "metadata": {
        "id": "vykG48fWZsyG"
      },
      "source": [
        "model = Sequential()\n",
        "model.add(Conv2D(28, kernel_size=(3,3), input_shape=input_shape))\n",
        "model.add(MaxPooling2D(pool_size=(2, 2)))\n",
        "model.add(Flatten())\n",
        "model.add(Dense(128, activation=tf.nn.relu))\n",
        "model.add(Dropout(0.2))\n",
        "model.add(Dense(10,activation=tf.nn.softmax))"
      ],
      "execution_count": null,
      "outputs": []
    },
    {
      "cell_type": "markdown",
      "metadata": {
        "id": "VMC6AyQ2lSSj"
      },
      "source": [
        "Скомпилируем модель"
      ]
    },
    {
      "cell_type": "code",
      "metadata": {
        "id": "e-r9VCKDe3ZH"
      },
      "source": [
        "model.compile(optimizer='adam', \n",
        "              loss='sparse_categorical_crossentropy', \n",
        "              metrics=['accuracy'])"
      ],
      "execution_count": null,
      "outputs": []
    },
    {
      "cell_type": "markdown",
      "metadata": {
        "id": "gOtoPLTrldyE"
      },
      "source": [
        "Натренируем на 10 эпохах"
      ]
    },
    {
      "cell_type": "code",
      "metadata": {
        "colab": {
          "base_uri": "https://localhost:8080/"
        },
        "id": "dUoHHxcGe8V-",
        "outputId": "6c718da6-72c2-4a32-e67b-4f766f46c69f"
      },
      "source": [
        "model.fit(x=x_train,y=y_train, epochs=10)"
      ],
      "execution_count": null,
      "outputs": [
        {
          "output_type": "stream",
          "text": [
            "Epoch 1/10\n",
            "1875/1875 [==============================] - 32s 17ms/step - loss: 0.3501 - accuracy: 0.8975\n",
            "Epoch 2/10\n",
            "1875/1875 [==============================] - 32s 17ms/step - loss: 0.0876 - accuracy: 0.9731\n",
            "Epoch 3/10\n",
            "1875/1875 [==============================] - 32s 17ms/step - loss: 0.0523 - accuracy: 0.9841\n",
            "Epoch 4/10\n",
            "1875/1875 [==============================] - 32s 17ms/step - loss: 0.0423 - accuracy: 0.9865\n",
            "Epoch 5/10\n",
            "1875/1875 [==============================] - 32s 17ms/step - loss: 0.0330 - accuracy: 0.9888\n",
            "Epoch 6/10\n",
            "1875/1875 [==============================] - 32s 17ms/step - loss: 0.0273 - accuracy: 0.9901\n",
            "Epoch 7/10\n",
            "1875/1875 [==============================] - 32s 17ms/step - loss: 0.0211 - accuracy: 0.9927\n",
            "Epoch 8/10\n",
            "1875/1875 [==============================] - 32s 17ms/step - loss: 0.0200 - accuracy: 0.9935\n",
            "Epoch 9/10\n",
            "1875/1875 [==============================] - 32s 17ms/step - loss: 0.0180 - accuracy: 0.9937\n",
            "Epoch 10/10\n",
            "1875/1875 [==============================] - 32s 17ms/step - loss: 0.0184 - accuracy: 0.9934\n"
          ],
          "name": "stdout"
        },
        {
          "output_type": "execute_result",
          "data": {
            "text/plain": [
              "<tensorflow.python.keras.callbacks.History at 0x7ff33ce1be10>"
            ]
          },
          "metadata": {
            "tags": []
          },
          "execution_count": 11
        }
      ]
    },
    {
      "cell_type": "markdown",
      "metadata": {
        "id": "MqBzxmx4lmuK"
      },
      "source": [
        "Выполним предсказание и посмотрим на данные"
      ]
    },
    {
      "cell_type": "code",
      "metadata": {
        "colab": {
          "base_uri": "https://localhost:8080/"
        },
        "id": "LN9jpLbhifr2",
        "outputId": "891f404b-3f54-46b0-a6aa-4437f7107102"
      },
      "source": [
        "predictions=model.predict(x_test)\n",
        "print(predictions[:5])\n",
        "print(y_test[:5])"
      ],
      "execution_count": null,
      "outputs": [
        {
          "output_type": "stream",
          "text": [
            "[[1.0459797e-12 8.7607415e-15 3.1413810e-12 5.5978028e-11 1.6552294e-17\n",
            "  1.8725770e-15 2.1708861e-22 1.0000000e+00 1.6255313e-14 3.7135758e-10]\n",
            " [6.6595319e-12 5.8958536e-09 1.0000000e+00 6.6881688e-17 5.1429588e-19\n",
            "  2.4236018e-21 8.8831107e-13 2.4435820e-19 1.9892205e-14 8.3151253e-23]\n",
            " [2.6158895e-13 9.9999988e-01 9.5446122e-09 4.9803762e-14 2.3902469e-08\n",
            "  4.2708883e-12 3.7493768e-09 7.5393899e-08 2.8847118e-08 2.5001934e-12]\n",
            " [9.9999845e-01 2.3001502e-14 1.4686048e-06 5.9054216e-13 7.5164552e-14\n",
            "  1.2038405e-11 2.6016016e-08 2.2231700e-10 1.4636563e-12 5.1032263e-09]\n",
            " [2.8572884e-12 1.3290730e-14 4.8463035e-12 7.9792232e-12 9.9998283e-01\n",
            "  1.2044454e-09 2.7620343e-13 4.6362317e-10 1.8125900e-12 1.7195296e-05]]\n",
            "[7 2 1 0 4]\n"
          ],
          "name": "stdout"
        }
      ]
    },
    {
      "cell_type": "markdown",
      "metadata": {
        "id": "oinpWBQVllWf"
      },
      "source": [
        "Посмотрим на точность модели. Accuracy оказалась равной = 0,9834. Что является очень хорошим результатом"
      ]
    },
    {
      "cell_type": "code",
      "metadata": {
        "colab": {
          "base_uri": "https://localhost:8080/"
        },
        "id": "_kr6djhqjaJy",
        "outputId": "5209b656-44a9-4b9c-b697-b649c951493b"
      },
      "source": [
        "model.evaluate(x_test, y_test)"
      ],
      "execution_count": null,
      "outputs": [
        {
          "output_type": "stream",
          "text": [
            "313/313 [==============================] - 2s 6ms/step - loss: 0.0671 - accuracy: 0.9834\n"
          ],
          "name": "stdout"
        },
        {
          "output_type": "execute_result",
          "data": {
            "text/plain": [
              "[0.06707501411437988, 0.9833999872207642]"
            ]
          },
          "metadata": {
            "tags": []
          },
          "execution_count": 18
        }
      ]
    },
    {
      "cell_type": "markdown",
      "metadata": {
        "id": "K0iORnI4l84i"
      },
      "source": [
        "Посмотрим на несколько картинок и на то, к каким классам отнесла их модель"
      ]
    },
    {
      "cell_type": "code",
      "metadata": {
        "colab": {
          "base_uri": "https://localhost:8080/",
          "height": 283
        },
        "id": "0XsVVK8yjjZ3",
        "outputId": "16964779-396d-4e56-c442-a304bd34e8c1"
      },
      "source": [
        "image_index = 693\n",
        "plt.imshow(x_test[image_index].reshape(28, 28),cmap='Greys')\n",
        "print(predictions[image_index].argmax())"
      ],
      "execution_count": null,
      "outputs": [
        {
          "output_type": "stream",
          "text": [
            "8\n"
          ],
          "name": "stdout"
        },
        {
          "output_type": "display_data",
          "data": {
            "image/png": "[encoded data removed]",
            "text/plain": [
              "<Figure size 432x288 with 1 Axes>"
            ]
          },
          "metadata": {
            "tags": [],
            "needs_background": "light"
          }
        }
      ]
    },
    {
      "cell_type": "code",
      "metadata": {
        "colab": {
          "base_uri": "https://localhost:8080/",
          "height": 283
        },
        "id": "AzgiN5fBmS_U",
        "outputId": "bad13ba5-8d42-4d9e-b207-6d0245f952f7"
      },
      "source": [
        "image_index = 1967\n",
        "plt.imshow(x_test[image_index].reshape(28, 28),cmap='Greys')\n",
        "print(predictions[image_index].argmax())"
      ],
      "execution_count": null,
      "outputs": [
        {
          "output_type": "stream",
          "text": [
            "5\n"
          ],
          "name": "stdout"
        },
        {
          "output_type": "display_data",
          "data": {
            "image/png": "[encoded data removed]",
            "text/plain": [
              "<Figure size 432x288 with 1 Axes>"
            ]
          },
          "metadata": {
            "tags": [],
            "needs_background": "light"
          }
        }
      ]
    },
    {
      "cell_type": "code",
      "metadata": {
        "colab": {
          "base_uri": "https://localhost:8080/",
          "height": 283
        },
        "id": "A0H__2ovmYDI",
        "outputId": "c46da1f6-ec1a-4589-f845-dd71a552fcec"
      },
      "source": [
        "image_index = 80\n",
        "plt.imshow(x_test[image_index].reshape(28, 28),cmap='Greys')\n",
        "print(predictions[image_index].argmax())"
      ],
      "execution_count": null,
      "outputs": [
        {
          "output_type": "stream",
          "text": [
            "7\n"
          ],
          "name": "stdout"
        },
        {
          "output_type": "display_data",
          "data": {
            "image/png": "[encoded data removed]",
            "text/plain": [
              "<Figure size 432x288 with 1 Axes>"
            ]
          },
          "metadata": {
            "tags": [],
            "needs_background": "light"
          }
        }
      ]
    },
    {
      "cell_type": "markdown",
      "metadata": {
        "id": "QqkHfzPhmcjW"
      },
      "source": [
        "Расчитаем ключевые метрики:\n"
      ]
    },
    {
      "cell_type": "code",
      "metadata": {
        "colab": {
          "base_uri": "https://localhost:8080/"
        },
        "id": "RMBJhvl_mbVQ",
        "outputId": "37c2df8c-5889-4306-b199-be389ef32a6d"
      },
      "source": [
        "pred = []\n",
        "for i in predictions:\n",
        "  pred.append(i.argmax())\n"
      ],
      "execution_count": null,
      "outputs": [
        {
          "output_type": "stream",
          "text": [
            "[7, 2, 1, 0, 4]\n",
            "[7 2 1 0 4]\n"
          ],
          "name": "stdout"
        }
      ]
    },
    {
      "cell_type": "code",
      "metadata": {
        "colab": {
          "base_uri": "https://localhost:8080/"
        },
        "id": "1qLpfaqenpmw",
        "outputId": "d88948de-2433-49ef-ba3f-e13018cc903e"
      },
      "source": [
        "print(classification_report(y_test, pred, digits=3))"
      ],
      "execution_count": null,
      "outputs": [
        {
          "output_type": "stream",
          "text": [
            "              precision    recall  f1-score   support\n",
            "\n",
            "           0      0.991     0.993     0.992       980\n",
            "           1      0.994     0.996     0.995      1135\n",
            "           2      0.986     0.979     0.982      1032\n",
            "           3      0.991     0.976     0.984      1010\n",
            "           4      0.980     0.991     0.985       982\n",
            "           5      0.976     0.987     0.981       892\n",
            "           6      0.982     0.984     0.983       958\n",
            "           7      0.981     0.979     0.980      1028\n",
            "           8      0.976     0.982     0.979       974\n",
            "           9      0.976     0.968     0.972      1009\n",
            "\n",
            "    accuracy                          0.983     10000\n",
            "   macro avg      0.983     0.983     0.983     10000\n",
            "weighted avg      0.983     0.983     0.983     10000\n",
            "\n"
          ],
          "name": "stdout"
        }
      ]
    }
  ]
}